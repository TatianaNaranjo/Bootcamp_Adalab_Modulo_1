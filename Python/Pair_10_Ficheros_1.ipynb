{
 "cells": [
  {
   "cell_type": "code",
   "execution_count": 4,
   "metadata": {},
   "outputs": [],
   "source": [
    "#1 carpeta en la que estamos trabajando\n",
    "import os\n",
    "os.getcwd()\n",
    "#os.mkdir('aprendiendo-ficheros') Comentamos esta línea de código para que no nos dé error al correrla pues el directorio ya ha sido creado"
   ]
  },
  {
   "cell_type": "code",
   "execution_count": 5,
   "metadata": {},
   "outputs": [
    {
     "data": {
      "text/plain": [
       "'/Users/Almudena/Desktop/adalab/mis archivos/Python/sprint 2/aprendiendo-ficheros'"
      ]
     },
     "execution_count": 5,
     "metadata": {},
     "output_type": "execute_result"
    }
   ],
   "source": [
    "#os.mkdir('aprendiendo-ficheros')\n",
    "os.chdir('/Users/Almudena/Desktop/adalab/mis archivos/Python/sprint 2/aprendiendo-ficheros')\n",
    "os.getcwd()"
   ]
  },
  {
   "cell_type": "code",
   "execution_count": 9,
   "metadata": {},
   "outputs": [
    {
     "data": {
      "text/plain": [
       "'/Users/Almudena/Desktop/adalab/mis archivos/Python/sprint 2/aprendiendo-ficheros/datos'"
      ]
     },
     "execution_count": 9,
     "metadata": {},
     "output_type": "execute_result"
    }
   ],
   "source": [
    "#os.mkdir('datos') Lo mismo para con esta, lo comentamos para que no dé error\n",
    "os.chdir('/Users/Almudena/Desktop/adalab/mis archivos/Python/sprint 2/aprendiendo-ficheros/datos')\n",
    "os.getcwd()"
   ]
  },
  {
   "cell_type": "code",
   "execution_count": 14,
   "metadata": {},
   "outputs": [
    {
     "data": {
      "text/plain": [
       "'/Users/Almudena/Desktop/adalab/mis archivos/Python/sprint 2/aprendiendo-ficheros/datos/saludos.txt'"
      ]
     },
     "execution_count": 14,
     "metadata": {},
     "output_type": "execute_result"
    }
   ],
   "source": [
    "import shutil\n",
    "shutil.move('/Users/Almudena/Downloads/saludos.txt', '/Users/Almudena/Desktop/adalab/mis archivos/Python/sprint 2/aprendiendo-ficheros/datos')"
   ]
  },
  {
   "cell_type": "code",
   "execution_count": 24,
   "metadata": {},
   "outputs": [
    {
     "data": {
      "text/plain": [
       "'/Users/Almudena/Desktop/adalab/mis archivos/Python/sprint 2/primera-toma-contacto'"
      ]
     },
     "execution_count": 24,
     "metadata": {},
     "output_type": "execute_result"
    }
   ],
   "source": [
    "#os.chdir('/Users/Almudena/Desktop/adalab/mis archivos/Python/sprint 2/aprendiendo-ficheros')\n",
    "#os.rename('/Users/Almudena/Desktop/adalab/mis archivos/Python/sprint 2/aprendiendo-ficheros', '/Users/Almudena/Desktop/adalab/mis archivos/Python/sprint 2/primera-toma-contacto')\n",
    "os.getcwd()"
   ]
  },
  {
   "cell_type": "code",
   "execution_count": null,
   "metadata": {},
   "outputs": [],
   "source": [
    "for carpetas in '/Users/Almudena/Desktop/adalab/mis archivos/Python/sprint 2/primera-toma-contacto':\n",
    "    if os.getcwd() == 'primera-toma-contacto':\n",
    "        print('Este fichero ya existe')\n",
    "    else:\n",
    "        print('Este fichero no existe. Debes crearlo')"
   ]
  },
  {
   "cell_type": "code",
   "execution_count": 36,
   "metadata": {},
   "outputs": [
    {
     "name": "stdout",
     "output_type": "stream",
     "text": [
      "Hola Adalabers!!!\n",
      "\n",
      "Estamos en la sesión de pair-programming para familiarizarnos con la gestión de carpetas y ficheros desde Python 🙂🌊\n",
      "\n",
      "Esto esta siendo suuuper divertidooooo\n"
     ]
    }
   ],
   "source": [
    "ubi_archivo = '/Users/Almudena/Desktop/adalab/mis archivos/Python/sprint 2/primera-toma-contacto/datos/saludos.txt'\n",
    "f = open(ubi_archivo)\n",
    "print(f.read())\n"
   ]
  },
  {
   "cell_type": "code",
   "execution_count": null,
   "metadata": {},
   "outputs": [],
   "source": [
    "ubi_archivo = '/Users/Almudena/Desktop/adalab/mis archivos/Python/sprint 2/primera-toma-contacto/datos/saludos.txt'\n",
    "linea_4 = f.readlines()\n",
    "if f.readlines([4]) == ():\n",
    "    f = open(ubi_archivo)\n",
    "    print(linea_4[4])\n"
   ]
  }
 ],
 "metadata": {
  "interpreter": {
   "hash": "9df72549cec875d35faaa50875d444b10c11452b268975a17c9dc6870f43870f"
  },
  "kernelspec": {
   "display_name": "Python 3.9.7 ('base')",
   "language": "python",
   "name": "python3"
  },
  "language_info": {
   "codemirror_mode": {
    "name": "ipython",
    "version": 3
   },
   "file_extension": ".py",
   "mimetype": "text/x-python",
   "name": "python",
   "nbconvert_exporter": "python",
   "pygments_lexer": "ipython3",
   "version": "3.8.9"
  },
  "orig_nbformat": 4
 },
 "nbformat": 4,
 "nbformat_minor": 2
}
