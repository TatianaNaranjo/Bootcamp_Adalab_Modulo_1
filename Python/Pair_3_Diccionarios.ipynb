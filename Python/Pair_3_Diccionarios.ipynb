{
 "cells": [
  {
   "cell_type": "code",
   "execution_count": 9,
   "metadata": {},
   "outputs": [
    {
     "name": "stdout",
     "output_type": "stream",
     "text": [
      "¡Comencemos el juego!\n",
      "La lista tiene 15 números entre 0 a 20.\n",
      "El usuario adivinó: 12\n",
      "[9, 8, 4, 5, 6, 2, 7, 16, 12, 11, 0, 15, 13, 3, 14]\n",
      "True\n",
      "Estaba en el sitio 9, índice 8.\n",
      "Terminamos el juego. La lista era [9, 8, 4, 5, 6, 2, 7, 16, 12, 11, 0, 15, 13, 3, 14]\n"
     ]
    }
   ],
   "source": [
    "import random\n",
    "\n",
    "# Variables numéricas\n",
    "index = -1\n",
    "\n",
    "# Cadenas fijas de texto\n",
    "print('¡Comencemos el juego!')\n",
    "print('La lista tiene 15 números entre 0 a 20.')\n",
    "\n",
    "# User input\n",
    "intento = int(input('Introduzca el número elegido'))\n",
    "print('El usuario adivinó:', intento)\n",
    "\n",
    "# Cantidades calculadas\n",
    "\n",
    "longitud_lista = len(num_list)\n",
    "lim_inferior = min(num_list)\n",
    "lim_superior = max(num_list)\n",
    "num_list = random.sample(range(lim_inferior, lim_superior), longitud_lista)\n",
    "\n",
    "\n",
    "# Inicio del juego\n",
    "\n",
    "# Propiedades de la lista aleatoria\n",
    "\n",
    "# Han adivinado un elemento?\n",
    "print(intento in num_list)\n",
    "\n",
    "# Si adivinaron uno, dónde estaba?\n",
    "if num_list.count(intento): index = num_list.index(intento)\n",
    "if index >= 0: print(\"Estaba en el sitio\", str(index+1) + \", índice\", str(index)+\".\")\n",
    "\n",
    "\n",
    "print('Terminamos el juego. La lista era', num_list)\n",
    "# Fin del juego"
   ]
  },
  {
   "cell_type": "code",
   "execution_count": null,
   "metadata": {},
   "outputs": [],
   "source": []
  }
 ],
 "metadata": {
  "interpreter": {
   "hash": "31f2aee4e71d21fbe5cf8b01ff0e069b9275f58929596ceb00d14d90e3e16cd6"
  },
  "kernelspec": {
   "display_name": "Python 3.8.9 64-bit",
   "language": "python",
   "name": "python3"
  },
  "language_info": {
   "codemirror_mode": {
    "name": "ipython",
    "version": 3
   },
   "file_extension": ".py",
   "mimetype": "text/x-python",
   "name": "python",
   "nbconvert_exporter": "python",
   "pygments_lexer": "ipython3",
   "version": "3.9.7"
  },
  "orig_nbformat": 4
 },
 "nbformat": 4,
 "nbformat_minor": 2
}
