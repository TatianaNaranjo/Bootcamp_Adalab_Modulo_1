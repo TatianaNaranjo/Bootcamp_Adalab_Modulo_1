{
 "cells": [
  {
   "cell_type": "code",
   "execution_count": 12,
   "metadata": {},
   "outputs": [
    {
     "name": "stdout",
     "output_type": "stream",
     "text": [
      "¡Comencemos el juego\n",
      "Tienes 3 intentos para adivinar el número entre 2 y 9.\n",
      "Intento 1: 3\n",
      "Lo siento, el número secreto es más alto que este\n",
      "Intento 2: 6\n",
      "Lo siento, el número secreto es más alto que este\n",
      "Intento 3: 8\n",
      "Lo siento, el juego ha terminado\n"
     ]
    }
   ],
   "source": [
    "import math\n",
    "import random\n",
    "\n",
    "#Comienza el juego. Explicamos las normas\n",
    "print('¡Comencemos el juego')\n",
    "print('Tienes 3 intentos para adivinar el número entre 2 y 9.')\n",
    "\n",
    "#Establecemos límites para adivinar los números\n",
    "lim_inferior = 2\n",
    "lim_superior = 9\n",
    "\n",
    "#Código del pair_1 para que el ordenador adivine un número\n",
    "intentos_permitidos = round(math.log(lim_superior - lim_inferior + 1,2))\n",
    "numero_secreto = random.randint(lim_inferior,lim_superior)\n",
    "\n",
    "#intento1\n",
    "intento1 = int(input('Di un número entre 2 y 9'))\n",
    "print('Intento 1:', intento1)\n",
    "\n",
    "#loop intento1\n",
    "if intento1 == numero_secreto:\n",
    "    print('Enhorabuena, has adivinado el número')\n",
    "elif numero_secreto > intento1:\n",
    "    print('Lo siento, el número secreto es más alto que este')\n",
    "elif numero_secreto < intento1:\n",
    "    print('Lo siento, el número secreto es más bajo que este')\n",
    "\n",
    "#intento2\n",
    "intento2 = int(input('Di un número entre 2 y 9'))\n",
    "print('Intento 2:', intento2)\n",
    "\n",
    "#loop intento2\n",
    "if intento2 == numero_secreto:\n",
    "    print('Enhorabuena, has adivinado el número')\n",
    "elif numero_secreto > intento2:\n",
    "    print('Lo siento, el número secreto es más alto que este')\n",
    "elif numero_secreto < intento2:\n",
    "    print('Lo siento, el número secreto es más bajo que este')\n",
    "\n",
    "#intento3\n",
    "intento3 = int(input('Di un número entre 2 y 9'))\n",
    "print('Intento 3:', intento3)\n",
    "\n",
    "#Ya no nos interesa saber si es más alto o bajo porque el juego ha terminado. \n",
    "#Si intento3 != numero_secreto el juego termina\n",
    "if intento3 == numero_secreto:\n",
    "    print('Enhorabuena, has adivinado el número')\n",
    "else:\n",
    "    print('Lo siento, el juego ha terminado')\n",
    "\n"
   ]
  }
 ],
 "metadata": {
  "interpreter": {
   "hash": "9df72549cec875d35faaa50875d444b10c11452b268975a17c9dc6870f43870f"
  },
  "kernelspec": {
   "display_name": "Python 3.9.7 ('base')",
   "language": "python",
   "name": "python3"
  },
  "language_info": {
   "codemirror_mode": {
    "name": "ipython",
    "version": 3
   },
   "file_extension": ".py",
   "mimetype": "text/x-python",
   "name": "python",
   "nbconvert_exporter": "python",
   "pygments_lexer": "ipython3",
   "version": "3.9.7"
  },
  "orig_nbformat": 4
 },
 "nbformat": 4,
 "nbformat_minor": 2
}
