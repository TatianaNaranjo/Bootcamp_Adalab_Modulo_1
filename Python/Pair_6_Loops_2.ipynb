{
 "cells": [
  {
   "cell_type": "markdown",
   "metadata": {},
   "source": [
    "# Ejercicio 1\n",
    "En el juego el usuario tendra que adivinar un número entre 2 y 9.\n",
    "Tendra 3 intentos para adivinarlo y en cada intento tendra una pista acerca del número secreto.\n",
    "El juega termina si el usuario adivina el número o si terminan sus 3 intentos. \n"
   ]
  },
  {
   "cell_type": "code",
   "execution_count": 11,
   "metadata": {},
   "outputs": [
    {
     "name": "stdout",
     "output_type": "stream",
     "text": [
      "¡Comencemos el juego!\n",
      "Tienes 3 intentos para adivinar el número entre 2 y 9.\n",
      "Elige un número del 2 al 9\n",
      "Intento: 3\n",
      "Lo siento, el número secreto es mayor que este\n",
      "Intento: 4\n",
      "Lo siento, el número secreto es mayor que este\n",
      "Intento: 5\n",
      "Enhorabuena, has adivinado el número\n"
     ]
    }
   ],
   "source": [
    "import math\n",
    "import random\n",
    "\n",
    "#Comienza el juego. Explicamos las normas\n",
    "print('¡Comencemos el juego!')\n",
    "print('Tienes 3 intentos para adivinar el número entre 2 y 9.')\n",
    "print(\"Elige un número del 2 al 9\")\n",
    "\n",
    "#Establecemos límites para adivinar los números\n",
    "lim_superior = 9\n",
    "lim_inferior = 2\n",
    "\n",
    "\n",
    "#Definimos el contador de los intentos\n",
    "intentos = 0\n",
    "intentos_permitidos = round(math.log(lim_superior - lim_inferior + 1, 2))\n",
    "intentos_restantes = int(intentos_permitidos) - int(intentos)\n",
    "\n",
    "#Código para que el ordenador adivine un número\n",
    "numero_secreto = random.randint(lim_inferior,lim_superior)\n",
    "\n",
    "#loop intento1\n",
    "while intentos < intentos_permitidos:\n",
    "    num = int(input())\n",
    "    print('Intento:', num)\n",
    "\n",
    "    if num > numero_secreto:\n",
    "        print('Lo siento, el número secreto es menor que este')\n",
    "    elif num < numero_secreto:\n",
    "        print('Lo siento, el número secreto es mayor que este')\n",
    "    elif num == numero_secreto:\n",
    "        print('Enhorabuena, has adivinado el número')\n",
    "        break\n",
    "    intentos += 1\n",
    "    intentos_restantes = int(intentos_permitidos) - int(intentos)\n",
    "else:\n",
    "    print('Lo siento, el juego ha terminado no has adivinado el número secreto')\n",
    "\n"
   ]
  }
 ],
 "metadata": {
  "kernelspec": {
   "display_name": "Python 3.9.7 ('base')",
   "language": "python",
   "name": "python3"
  },
  "language_info": {
   "codemirror_mode": {
    "name": "ipython",
    "version": 3
   },
   "file_extension": ".py",
   "mimetype": "text/x-python",
   "name": "python",
   "nbconvert_exporter": "python",
   "pygments_lexer": "ipython3",
   "version": "3.9.7"
  },
  "orig_nbformat": 4,
  "vscode": {
   "interpreter": {
    "hash": "328661ec968ebc77b93161299d44fd1f4547ee33c9a17c5e95f23064c7c08def"
   }
  }
 },
 "nbformat": 4,
 "nbformat_minor": 2
}
