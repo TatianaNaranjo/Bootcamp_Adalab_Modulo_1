{
 "cells": [
  {
   "cell_type": "code",
   "execution_count": null,
   "metadata": {},
   "outputs": [],
   "source": [
    "#1 recibir 2 nº en str y dar el resultado de la suma como str\n",
    "print('Probad la función para las siguientes combinaciones de números')\n",
    "\n",
    "def suma (a,b):\n",
    "    if a == \"\" and b == \"\":\n",
    "        return '0'\n",
    "    \n",
    "    if a == \"\" and b != \"\":\n",
    "        return b\n",
    "        \n",
    "    if a != \"\" and b == \"\":\n",
    "        return a\n",
    "\n",
    "    suma = int(a) + int(b)\n",
    "    return str(suma)\n",
    "\n",
    "suma('4','5')\n",
    "suma('34','5')\n",
    "suma('','')\n",
    "suma('2','')\n",
    "suma('-5','3')\n",
    "\n",
    "#2 comparar nº enteros de 2 listas y devolver una lista con los nº grandes\n",
    "print('Probad la función para las siguientes listas:')\n",
    "\n",
    "def comparar (arr1,arr2):\n",
    "    lista = list(zip(arr1,arr2))\n",
    "    lista_resultado = []\n",
    "\n",
    "    for lista in comparar:\n",
    "        if lista[0][1] > lista[0][1]:\n",
    "            lista_resultado.append(lista[0][0])\n",
    "        if lista[0][0] < lista[0][1]:\n",
    "            lista_resultado.append(lista[0][1])\n",
    "\n",
    "        print('resultado =', lista_resultado)\n",
    "\n",
    "arr1 = [13, 64, 15, 17, 88]\n",
    "arr2 = [23, 14, 53, 17, 80]\n",
    "comparar(arr1, arr2)\n",
    "\n"
   ]
  }
 ],
 "metadata": {
  "interpreter": {
   "hash": "9df72549cec875d35faaa50875d444b10c11452b268975a17c9dc6870f43870f"
  },
  "kernelspec": {
   "display_name": "Python 3.9.7 ('base')",
   "language": "python",
   "name": "python3"
  },
  "language_info": {
   "codemirror_mode": {
    "name": "ipython",
    "version": 3
   },
   "file_extension": ".py",
   "mimetype": "text/x-python",
   "name": "python",
   "nbconvert_exporter": "python",
   "pygments_lexer": "ipython3",
   "version": "3.8.9"
  },
  "orig_nbformat": 4
 },
 "nbformat": 4,
 "nbformat_minor": 2
}
