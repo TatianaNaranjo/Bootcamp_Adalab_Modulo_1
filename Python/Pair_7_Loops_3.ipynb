{
 "cells": [
  {
   "cell_type": "markdown",
   "metadata": {},
   "source": [
    "# Ejercicio 1\n",
    "El juego de hoy es adivinar una palabra letra por letra. El popular juego del \"Ahorcado\"\n",
    "\n",
    "El programa tendrá dos ajustes, una lista de palabras y la cantidad de intentos permitidos. \n",
    "\n",
    "La palabra secreta será elegido aleatoriamente de la lista que propongáis. \n"
   ]
  },
  {
   "cell_type": "code",
   "execution_count": 8,
   "metadata": {},
   "outputs": [
    {
     "name": "stdout",
     "output_type": "stream",
     "text": [
      "Comenzamos el juego\n",
      "_ _ _ _ \n",
      "\n",
      "Intento 1 :  A\n",
      "_ _ _ _ \n",
      "Intento 2 :  E\n",
      "_ _ _ E  \n",
      "Intento 3 :  I\n",
      "_ _ _ E  \n",
      "Intento 4 :  B\n",
      "B  _ _ E  \n",
      "Intento 5 :  L\n",
      "B  L  _ E  \n",
      "Intento 6 :  U\n",
      "B  L  U  E  \n",
      "¡Terminamos el juego! \n",
      "Enhorabuena, has adivinado la palabra\n",
      "\n",
      "La palabra secreta era: BLUE\n"
     ]
    }
   ],
   "source": [
    "import random\n",
    "\n",
    "palabras = 'red orange yellow green blue indigo violet white black brown'.split()\n",
    "\n",
    "# Strings\n",
    "palabra_secreta = palabras[random.randint(0, len(palabras)-1)].upper()\n",
    "num_letras = len(palabra_secreta)\n",
    "\n",
    "#Inicio del juego\n",
    "print('Comenzamos el juego')\n",
    "\n",
    "# Variables calculadas\n",
    "huecos = '_ ' * num_letras\n",
    "print(huecos)\n",
    "\n",
    "# Input de la usuaria\n",
    "intentos = []\n",
    "\n",
    "for contador_intento in range(8):\n",
    "    intento = input('Escribe una letra')\n",
    "    print('\\nIntento', contador_intento + 1, ': ', intento)\n",
    "    intentos.append(intento)\n",
    "    palabra_usuario = []\n",
    "\n",
    "\n",
    "    for letra in palabra_secreta:\n",
    "        if letra in intentos:\n",
    "            palabra_usuario.append(letra)\n",
    "            print(letra, ' ', end='')\n",
    "        else:\n",
    "            palabra_usuario.append('_')\n",
    "            print('_ ', end='')\n",
    "    \n",
    "\n",
    "    if list(palabra_secreta) == palabra_usuario:\n",
    "        print('\\n¡Terminamos el juego! \\nEnhorabuena, has adivinado la palabra')\n",
    "        break\n",
    "\n",
    "print(\"\\nLa palabra secreta era:\", palabra_secreta)"
   ]
  }
 ],
 "metadata": {
  "kernelspec": {
   "display_name": "Python 3.9.7 ('base')",
   "language": "python",
   "name": "python3"
  },
  "language_info": {
   "codemirror_mode": {
    "name": "ipython",
    "version": 3
   },
   "file_extension": ".py",
   "mimetype": "text/x-python",
   "name": "python",
   "nbconvert_exporter": "python",
   "pygments_lexer": "ipython3",
   "version": "3.9.7"
  },
  "orig_nbformat": 4,
  "vscode": {
   "interpreter": {
    "hash": "328661ec968ebc77b93161299d44fd1f4547ee33c9a17c5e95f23064c7c08def"
   }
  }
 },
 "nbformat": 4,
 "nbformat_minor": 2
}
