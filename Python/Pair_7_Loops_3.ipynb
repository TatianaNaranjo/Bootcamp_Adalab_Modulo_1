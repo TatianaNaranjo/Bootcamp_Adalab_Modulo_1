{
 "cells": [
  {
   "cell_type": "code",
   "execution_count": 41,
   "metadata": {},
   "outputs": [
    {
     "name": "stdout",
     "output_type": "stream",
     "text": [
      "['R', 'E', 'D']\n",
      "_ _ _ \n",
      "Comenzamos el juego\n",
      "Tienes 8 intentos para adivinar la palabra\n",
      "Intento 1 :  R\n",
      "R  _ _ Intento 2 :  E\n",
      "R  E  _ Intento 3 :  D\n",
      "R  E  D  \n",
      "¡Terminamos el juego! \n",
      "Enhorabuena, has adivinado la palabra\n"
     ]
    }
   ],
   "source": [
    "import random\n",
    "\n",
    "palabras = 'red orange yellow green blue indigo violet white black brown'.split()\n",
    "\n",
    "# Ajustes\n",
    "\n",
    "# Strings\n",
    "palabra_secreta = palabras[random.randint(0, len(palabras)-1)].upper()\n",
    "num_letras = len(palabra_secreta)\n",
    "\n",
    "# Variables calculadas\n",
    "huecos = '_ ' * num_letras\n",
    "print(huecos)\n",
    "\n",
    "# Inicio del juego\n",
    "print('Comenzamos el juego')\n",
    "print('Tienes 8 intentos para adivinar la palabra')\n",
    "\n",
    "# Adivinanzas\n",
    "\n",
    "# Input de la usuaria\n",
    "intentos = []\n",
    "\n",
    "for contador_intento in range(8):\n",
    "    intento = input('Escribe una letra')\n",
    "    print('Intento', contador_intento + 1, ': ', intento)\n",
    "    intentos.append(intento)\n",
    "    palabra_usuario = []\n",
    "\n",
    "\n",
    "    for letra in palabra_secreta:\n",
    "        if letra in intentos:\n",
    "            palabra_usuario.append(letra)\n",
    "            print(letra, ' ', end='')\n",
    "        else:\n",
    "            palabra_usuario.append('_')\n",
    "            print('_ ', end='')\n",
    "    \n",
    "\n",
    "    if list(palabra_secreta) == palabra_usuario:\n",
    "        print('\\n¡Terminamos el juego! \\nEnhorabuena, has adivinado la palabra')\n",
    "        break\n"
   ]
  }
 ],
 "metadata": {
  "interpreter": {
   "hash": "9df72549cec875d35faaa50875d444b10c11452b268975a17c9dc6870f43870f"
  },
  "kernelspec": {
   "display_name": "Python 3.9.7 ('base')",
   "language": "python",
   "name": "python3"
  },
  "language_info": {
   "codemirror_mode": {
    "name": "ipython",
    "version": 3
   },
   "file_extension": ".py",
   "mimetype": "text/x-python",
   "name": "python",
   "nbconvert_exporter": "python",
   "pygments_lexer": "ipython3",
   "version": "3.8.9"
  },
  "orig_nbformat": 4
 },
 "nbformat": 4,
 "nbformat_minor": 2
}
