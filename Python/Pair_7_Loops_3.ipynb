{
 "cells": [
  {
   "cell_type": "markdown",
   "metadata": {},
   "source": [
    "# Ejercicio 1\n",
    "El juego de hoy es adivinar una palabra letra por letra. El popular juego del \"Ahorcado\"\n",
    "\n",
    "El programa tendrá dos ajustes, una lista de palabras y la cantidad de intentos permitidos. \n",
    "\n",
    "La palabra secreta será elegido aleatoriamente de la lista que propongáis. \n"
   ]
  },
  {
   "cell_type": "code",
   "execution_count": 1,
   "metadata": {},
   "outputs": [
    {
     "name": "stdout",
     "output_type": "stream",
     "text": [
      "_ _ _ _ _ \n",
      "Comenzamos el juego\n",
      "Tienes 8 intentos para adivinar la palabra\n",
      "Intento 1 :  o\n",
      "_ _ _ _ _ Intento 2 :  r\n",
      "_ _ _ _ _ Intento 3 :  a\n",
      "_ _ _ _ _ Intento 4 :  a\n",
      "_ _ _ _ _ Intento 5 :  e\n",
      "_ _ _ _ _ Intento 6 :  u\n",
      "_ _ _ _ _ Intento 7 :  c\n",
      "_ _ _ _ _ Intento 8 :  n\n",
      "_ _ _ _ _ "
     ]
    }
   ],
   "source": [
    "import random\n",
    "\n",
    "palabras = 'red orange yellow green blue indigo violet white black brown'.split()\n",
    "\n",
    "\n",
    "# Strings\n",
    "palabra_secreta = palabras[random.randint(0, len(palabras)-1)].upper()\n",
    "num_letras = len(palabra_secreta)\n",
    "\n",
    "# Variables calculadas\n",
    "huecos = '_ ' * num_letras\n",
    "print(huecos)\n",
    "\n",
    "# Inicio del juego\n",
    "print('Comenzamos el juego')\n",
    "print('Tienes 8 intentos para adivinar la palabra')\n",
    "\n",
    "# Adivinanzas\n",
    "\n",
    "# Input de la usuaria\n",
    "intentos = []\n",
    "\n",
    "for contador_intento in range(8):\n",
    "    intento = input('Escribe una letra')\n",
    "    print('Intento', contador_intento + 1, ': ', intento)\n",
    "    intentos.append(intento)\n",
    "    palabra_usuario = []\n",
    "\n",
    "\n",
    "    for letra in palabra_secreta:\n",
    "        if letra in intentos:\n",
    "            palabra_usuario.append(letra)\n",
    "            print(letra, ' ', end='')\n",
    "        else:\n",
    "            palabra_usuario.append('_')\n",
    "            print('_ ', end='')\n",
    "    \n",
    "\n",
    "    if list(palabra_secreta) == palabra_usuario:\n",
    "        print('\\n¡Terminamos el juego! \\nEnhorabuena, has adivinado la palabra')\n",
    "        break\n"
   ]
  }
 ],
 "metadata": {
  "kernelspec": {
   "display_name": "Python 3.9.7 ('base')",
   "language": "python",
   "name": "python3"
  },
  "language_info": {
   "codemirror_mode": {
    "name": "ipython",
    "version": 3
   },
   "file_extension": ".py",
   "mimetype": "text/x-python",
   "name": "python",
   "nbconvert_exporter": "python",
   "pygments_lexer": "ipython3",
   "version": "3.9.7"
  },
  "orig_nbformat": 4,
  "vscode": {
   "interpreter": {
    "hash": "328661ec968ebc77b93161299d44fd1f4547ee33c9a17c5e95f23064c7c08def"
   }
  }
 },
 "nbformat": 4,
 "nbformat_minor": 2
}
