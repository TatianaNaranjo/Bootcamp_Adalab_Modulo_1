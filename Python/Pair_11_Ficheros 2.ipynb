{
 "cells": [
  {
   "cell_type": "markdown",
   "metadata": {},
   "source": [
    "# EJERCICIO 1 \n",
    "La función debe recibir 4 parámetros:\n",
    "Nombre del fichero, incluyendo la extensión.\n",
    "Como queremos leer el fichero.\n",
    "El encoding del fichero.\n",
    "El contenido que queremos escribir en el fichero.\n",
    "\n",
    "Condiciones de la función:\n",
    "Si el fichero no existe, debe crearlo, insertar contenido y mostrar su contenido.\n",
    "Si el fichero existe pregunta al usuario si quiere sobreescribirlo. En caso de Si, sobreescribe el fichero, insertad contenido y leedlo. En caso de No, no hace nada.\n",
    "\n",
    "💡 Pistas 💡\n",
    "Para chequear si un fichero existe, podemos usar la función os.listdir() que devuelve una lista con los nombres de los ficheros que hay en un directorio.\n",
    "Para crear un fichero, podemos usar la función open() que recibe como parámetros el nombre del fichero, el modo de apertura y el encoding.\n",
    "Para chequear si el fichero existe debéis usar los for loops y el método in para comprobar si el nombre del fichero está en la lista de ficheros.\n",
    "Usar un input para preguntar al usuario si quiere sobreescribir el fichero.\n",
    "Para sobreescribir el fichero, podemos usar la función open() que recibe como parámetros el nombre del fichero, el modo de apertura y el encoding.\n",
    "Strings que cubren más que una línea tienen que ser iniciados y cerrados con tres comillas \"\"\"."
   ]
  },
  {
   "cell_type": "code",
   "execution_count": 1,
   "metadata": {},
   "outputs": [
    {
     "name": "stdout",
     "output_type": "stream",
     "text": [
      "Nombre de tu archivo nuevo: Tatiana\n",
      "Contenido de tu archivo: Holi Tatiana!\n"
     ]
    }
   ],
   "source": [
    "#Ejercicio 1:\n",
    "\n",
    "import os\n",
    "\n",
    "def creamos_archivo(nombre, encoding, tipo_lectura, ponTuTexto):\n",
    "\n",
    "#Aqui vemos si el archivo existe o no. Si no existe preguntamos para crearlo.\n",
    "    if nombre in os.listdir():\n",
    "        print(nombre)\n",
    "    else:\n",
    "        pregunta = str(input('Este archivo no existe, ¿Quieres crearlo? Si/No'))\n",
    "        if pregunta == ('No'):\n",
    "            print('ok')\n",
    "        elif pregunta == ('Si'):\n",
    "#Ahora escribimos sobre el archivo y lo abrimos en el modo que se nos indica en la funcion.\n",
    "            with open(nombre,tipo_lectura, encoding = f\"{encoding}\") as f:\n",
    "                f.write(ponTuTexto)\n",
    "            with open(nombre) as f:\n",
    "                print('Nombre de tu archivo nuevo:', nombre)\n",
    "                print('Contenido de tu archivo:', f.read())\n",
    "\n",
    "\n",
    "creamos_archivo('Tatiana','UTF-8','w','Holi Tatiana!')\n",
    "\n"
   ]
  },
  {
   "cell_type": "markdown",
   "metadata": {},
   "source": [
    "# Ejercicio 2\n",
    "Tenemos un archivo XML con una lista de peliculas con algunas caracteristicas de cada una de las peliculas de la lista. \n",
    "\n",
    "En este ejercicio tendréis que crear una función que reciba el nombre del archivo xml y que devuelva lo siguiente:\n",
    "Qué tag y atributos tiene el archivo xml.\n",
    "La descripción de cada una de las películas que tenemos en ese archivo.\n",
    "Los años en que fueron estrenadas las películas.\n",
    "\n",
    "💡 Pistas 💡\n",
    "La función debe recibir un parámetro, el nombre del archivo xml.\n",
    "Tendréis que utlizar un bucle for para recorrer todo el archivo xml y extraer la información que os pedimos."
   ]
  },
  {
   "cell_type": "code",
   "execution_count": 18,
   "metadata": {},
   "outputs": [],
   "source": [
    "#Ejercicio 2:\n",
    "import xml.etree.ElementTree as ET\n",
    "\n",
    "archivo= 'peliculas.xml' \n",
    "tree = ET.parse('peliculas.xml')\n",
    "root = tree.getroot()\n",
    "\n",
    "\n",
    "def funcionPeliculas(archivo):\n",
    "\n",
    "    for child in root:     #Recorremos el archivo xml\n",
    "        for subchild in child:\n",
    "            if subchild.tag == 'movie':\n",
    "                print(subchild.text)\n",
    "            for subsubchild in subchild:\n",
    "                if subsubchild.tag == 'movie':\n",
    "                    print(subsubchild.text)\n",
    "                for subsubsubchild in subsubchild:\n",
    "                    if subsubsubchild.tag == 'year':\n",
    "                        print('    ', subsubsubchild.text)\n",
    "                    if subsubsubchild.tag == 'description':\n",
    "                        print('    ', subsubsubchild.text)\n",
    "                    \n"
   ]
  },
  {
   "cell_type": "code",
   "execution_count": null,
   "metadata": {},
   "outputs": [],
   "source": [
    "#Aquí llamamos a la función.\n",
    "funcionPeliculas(archivo)"
   ]
  },
  {
   "cell_type": "code",
   "execution_count": 20,
   "metadata": {},
   "outputs": [
    {
     "name": "stdout",
     "output_type": "stream",
     "text": [
      "   {'category': 'Action'}\n",
      "     {'years': '1980s'}\n",
      "     {'favorite': 'True', 'title': 'Indiana Jones: The raiders of the lost Ark'}\n",
      "     {'favorite': 'True', 'title': 'THE KARATE KID'}\n",
      "     {'favorite': 'False', 'title': 'Back 2 the Future'}\n",
      "     {'years': '1990s'}\n",
      "     {'favorite': 'False', 'title': 'X-Men'}\n",
      "     {'favorite': 'True', 'title': 'Batman Returns'}\n",
      "     {'favorite': 'False', 'title': 'Reservoir Dogs'}\n",
      "   {'category': 'Thriller'}\n",
      "     {'years': '1970s'}\n",
      "     {'favorite': 'False', 'title': 'ALIEN'}\n",
      "     {'years': '1980s'}\n",
      "     {'favorite': 'True', 'title': \"Ferris Bueller's Day Off\"}\n",
      "     {'favorite': 'FALSE', 'title': 'American Psycho'}\n",
      "   genre\n",
      "     decade\n",
      "     movie\n",
      "     movie\n",
      "     movie\n",
      "     decade\n",
      "     movie\n",
      "     movie\n",
      "     movie\n",
      "   genre\n",
      "     decade\n",
      "     movie\n",
      "     decade\n",
      "     movie\n",
      "     movie\n"
     ]
    }
   ],
   "source": [
    "def nombre_xml(nombre_archivo):\n",
    "    import xml.etree.ElementTree as ET\n",
    "\n",
    "    tree = ET.parse(nombre_archivo)                                         #analizamos el xml\n",
    "    root = tree.getroot()\n",
    "    \n",
    "   \n",
    "    for subelement in root:                                                 #recorremos el xml para sacar sus attrib\n",
    "            print('  ',subelement.attrib)\n",
    "            for subsubelement in subelement:\n",
    "                print('    ',subsubelement.attrib)\n",
    "                for subsubsubelement in subsubelement:\n",
    "                    print('    ',subsubsubelement.attrib)\n",
    "\n",
    "\n",
    "\n",
    "    for subelement in root:                                                 #recorremos el xml para sacar sus tag\n",
    "            print('  ',subelement.tag)\n",
    "            for subsubelement in subelement:\n",
    "                print('    ',subsubelement.tag)\n",
    "                for subsubsubelement in subsubelement:\n",
    "                    print('    ',subsubsubelement.tag)\n",
    "\n",
    "\n",
    "   \n",
    "\n",
    "nombre_xml(\"peliculas.xml\")"
   ]
  }
 ],
 "metadata": {
  "kernelspec": {
   "display_name": "Python 3.9.7 ('base')",
   "language": "python",
   "name": "python3"
  },
  "language_info": {
   "codemirror_mode": {
    "name": "ipython",
    "version": 3
   },
   "file_extension": ".py",
   "mimetype": "text/x-python",
   "name": "python",
   "nbconvert_exporter": "python",
   "pygments_lexer": "ipython3",
   "version": "3.9.7"
  },
  "orig_nbformat": 4,
  "vscode": {
   "interpreter": {
    "hash": "328661ec968ebc77b93161299d44fd1f4547ee33c9a17c5e95f23064c7c08def"
   }
  }
 },
 "nbformat": 4,
 "nbformat_minor": 2
}
