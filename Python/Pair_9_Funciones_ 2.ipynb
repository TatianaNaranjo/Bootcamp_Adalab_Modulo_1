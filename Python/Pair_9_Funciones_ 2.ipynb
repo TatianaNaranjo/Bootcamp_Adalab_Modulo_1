{
 "cells": [
  {
   "cell_type": "code",
   "execution_count": null,
   "metadata": {},
   "outputs": [],
   "source": [
    "#1 calculadora de puntos\n",
    "\n",
    "def calculadora(str_original):\n",
    "    str_dividido = str_original.split()\n",
    "    x = len(str_dividido[0])\n",
    "    operador = str_dividido[1]\n",
    "    n = len(str_dividido[2])\n",
    "\n",
    "    if operador == '+':\n",
    "        resultado = x + n\n",
    "    if operador == '-':\n",
    "        resultado = x - n\n",
    "    if operador == '*':\n",
    "        resultado = x * n\n",
    "    if operador == '//':\n",
    "        resultado = x // n\n",
    "    \n",
    "    print(str_original, '=>', (\".\" * resultado))\n",
    "\n",
    "calculadora(\"..... + ...............\")\n",
    "calculadora(\"..... - ...\")\n",
    "calculadora(\"..... * ...\")\n",
    "calculadora(\"..... // ..\")\n",
    "calculadora(\". // ..\")\n",
    "calculadora(\".. - ..\")"
   ]
  },
  {
   "cell_type": "code",
   "execution_count": null,
   "metadata": {},
   "outputs": [],
   "source": [
    "#3 Función que chequee la vida de un evaporador que contiene un gas\n",
    "def vida_evaporador(ml,gas,umbral):\n",
    "\n",
    "    dias = 0\n",
    "    cantidad_umbral = (ml*umbral)/100\n",
    "    \n",
    "    while ml >= cantidad_umbral:\n",
    "        dias +=1\n",
    "\n",
    "        perdida = (ml*gas)/100\n",
    "        ml -= perdida\n",
    "\n",
    "    return dias\n",
    "    \n",
    "vida_evaporador(10, 10, 5)\n",
    "vida_evaporador(10, 10, 10)"
   ]
  },
  {
   "cell_type": "code",
   "execution_count": null,
   "metadata": {},
   "outputs": [],
   "source": [
    "#4 Función que tome como argumento un entero y devuelva True/False dependiendo de si es número primo o no\n",
    "def es_primo(numero):\n",
    "\n",
    "    if numero < 2 :\n",
    "        return False\n",
    "\n",
    "    for i in range(2, numero):  #un rango desde el dos hasta el numero que nosotros elijamos\n",
    "        if numero % i == 0:    #si el resto da 0 no es primo, por lo tanto devuelve Falso\n",
    "            return False\n",
    "\n",
    "    return True    #de lo contrario devuelve Verdadero\n",
    "\n",
    "print(es_primo(0))\n",
    "print(es_primo(2))\n",
    "print(es_primo(73))\n",
    "print(es_primo(-1))\n",
    "print(es_primo(5099))"
   ]
  },
  {
   "cell_type": "code",
   "execution_count": null,
   "metadata": {},
   "outputs": [],
   "source": [
    "# 5 Ej. me gusta\n",
    "def me_gusta(nombres):\n",
    "    numero_nombres = len(nombres)\n",
    "    \n",
    "    if numero_nombres == 0:\n",
    "        return \"A nadie le gusta esto\"\n",
    "    if numero_nombres  == 1:\n",
    "        return format( \"A \" + nombres[0] + \" le gusta esto\")\n",
    "    if numero_nombres  == 2:\n",
    "        return ('A {} y a {} le gusta esto.').format('Jacoba', 'Alex')\n",
    "    if numero_nombres  == 3:\n",
    "        return ('A {}, {}, y a {} le gusta esto.').format('Maria', 'Juana', 'Lola')\n",
    "    if numero_nombres  >= 4:\n",
    "        return \"A \" + nombres[0] + \" , \"+ nombres[1] + \" y \" + str(numero_nombres-2) + \" le gusta esto\"\n",
    "\n",
    "#me_gusta([])\n",
    "#me_gusta([\"Paola\"])\n",
    "#me_gusta([\"Jacoba\", \"Alex\"])\n",
    "#me_gusta([\"Maria\", \"Juana\", \"Lola\"])\n",
    "#me_gusta([\"Alex\", \"Jacoba\", \"Lola\", \"Carmen\", \"Mariana\"])\n"
   ]
  }
 ],
 "metadata": {
  "interpreter": {
   "hash": "9df72549cec875d35faaa50875d444b10c11452b268975a17c9dc6870f43870f"
  },
  "kernelspec": {
   "display_name": "Python 3.9.7 ('base')",
   "language": "python",
   "name": "python3"
  },
  "language_info": {
   "codemirror_mode": {
    "name": "ipython",
    "version": 3
   },
   "file_extension": ".py",
   "mimetype": "text/x-python",
   "name": "python",
   "nbconvert_exporter": "python",
   "pygments_lexer": "ipython3",
   "version": "3.8.9"
  },
  "orig_nbformat": 4
 },
 "nbformat": 4,
 "nbformat_minor": 2
}
