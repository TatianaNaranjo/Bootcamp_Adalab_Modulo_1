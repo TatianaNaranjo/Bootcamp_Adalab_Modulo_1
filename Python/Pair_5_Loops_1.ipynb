{
 "cells": [
  {
   "cell_type": "markdown",
   "metadata": {},
   "source": [
    "# Ejercicio 1\n",
    "Hoy el juego es tres en línea, que vamos a construir una base en que permitimos dos inputs de usuaria, para que cada jugador pueda jugar una sola vez."
   ]
  },
  {
   "cell_type": "code",
   "execution_count": 2,
   "metadata": {},
   "outputs": [
    {
     "name": "stdout",
     "output_type": "stream",
     "text": [
      "¡Comencemos el juego!\n",
      "\n",
      "  |   |  \n",
      "  |   |  \n",
      "  |   |  \n",
      "\n",
      "El usuario dio el input: x 2,3\n",
      "\n",
      "  |   |  \n",
      "  |   | x\n",
      "  |   |  \n",
      "\n",
      "El usuario dio el input: o 3,1\n",
      "\n",
      "  |   |  \n",
      "  |   | x\n",
      "o |   |  \n",
      "\n",
      "¡Terminamos el juego!\n",
      "Los 2 jugadores que han participado son {'x'} {'o'}\n"
     ]
    }
   ],
   "source": [
    "# Variables predefinidas\n",
    "lista1 = [\" \",\" \",\" \"]\n",
    "lista2 = [\" \",\" \",\" \"]\n",
    "lista3 = [\" \",\" \",\" \"]\n",
    "\n",
    "# Definir el tablero con todo \"-\"\n",
    "\n",
    "listaAgrupada= [lista1, lista2, lista3]\n",
    "\n",
    "# Inicio del juego\n",
    "print('¡Comencemos el juego!')\n",
    "\n",
    "# Imprimir tablero\n",
    "listaAgrupada= [lista1, lista2, lista3]\n",
    "listaAgrupada[0][0]\n",
    "listaAgrupada[0][1]\n",
    "listaAgrupada[0][2]\n",
    "\n",
    "print()#Esto es solo para dar espacio y que se vea más estético el tablero al print\n",
    "print(listaAgrupada[0][0]+\" | \"+ listaAgrupada[0][1]+\" | \"+listaAgrupada[0][2] )\n",
    "print(listaAgrupada[1][0]+\" | \"+ listaAgrupada[1][1]+\" | \"+listaAgrupada[1][2] )\n",
    "print(listaAgrupada[2][0]+\" | \"+ listaAgrupada[2][1]+\" | \"+listaAgrupada[2][2] )\n",
    "print()#Esto es solo para dar espacio y que se vea más estético el tablero al print\n",
    "\n",
    "# Input de la usuaria\n",
    "usuario= input().split(\" \")\n",
    "simbolo_jugador1 = usuario[0]\n",
    "coor_str = usuario[1]\n",
    "coordinadas = tuple(int(num)-1 for num in coor_str.split(\",\"))\n",
    "print('El usuario dio el input:', simbolo_jugador1, coor_str)\n",
    "\n",
    "# Actualizar tablero\n",
    "listaAgrupada[coordinadas[0]][coordinadas[1]] = simbolo_jugador1\n",
    "\n",
    "# Imprimir tablero\n",
    "print()\n",
    "print(listaAgrupada[0][0]+\" | \"+ listaAgrupada[0][1]+\" | \"+listaAgrupada[0][2] )\n",
    "print(listaAgrupada[1][0]+\" | \"+ listaAgrupada[1][1]+\" | \"+listaAgrupada[1][2] )\n",
    "print(listaAgrupada[2][0]+\" | \"+ listaAgrupada[2][1]+\" | \"+listaAgrupada[2][2] )\n",
    "print()\n",
    "\n",
    "# Input del usuario\n",
    "usuario= input().split(\" \")\n",
    "#print(usuario)\n",
    "simbolo_jugador2 = usuario[0]\n",
    "coor_str = usuario[1]\n",
    "coordinadas = tuple(int(num)-1 for num in coor_str.split(\",\"))\n",
    "print('El usuario dio el input:', simbolo_jugador2, coor_str)\n",
    "\n",
    "\n",
    "# Actualizar tablero\n",
    "listaAgrupada[coordinadas[0]][coordinadas[1]] = simbolo_jugador2\n",
    "\n",
    "# Imprimir tablero\n",
    "print()\n",
    "print(listaAgrupada[0][0]+\" | \"+ listaAgrupada[0][1]+\" | \"+listaAgrupada[0][2] )\n",
    "print(listaAgrupada[1][0]+\" | \"+ listaAgrupada[1][1]+\" | \"+listaAgrupada[1][2] )\n",
    "print(listaAgrupada[2][0]+\" | \"+ listaAgrupada[2][1]+\" | \"+listaAgrupada[2][2] )\n",
    "print()\n",
    "\n",
    "# Convertir los caracteres del board a una sola lista\n",
    "board_list = sum(listaAgrupada,[])\n",
    "\n",
    "\n",
    "# Sacar los elementos únicos que no sean \"-\"\n",
    "# elementos_unicos = simbolo_jugador1, simbolo_jugador2\n",
    "\n",
    "# Final del juego\n",
    "print('¡Terminamos el juego!')\n",
    "print('Los 2 jugadores que han participado son', {simbolo_jugador1}, {simbolo_jugador2})"
   ]
  }
 ],
 "metadata": {
  "kernelspec": {
   "display_name": "Python 3.9.7 ('base')",
   "language": "python",
   "name": "python3"
  },
  "language_info": {
   "codemirror_mode": {
    "name": "ipython",
    "version": 3
   },
   "file_extension": ".py",
   "mimetype": "text/x-python",
   "name": "python",
   "nbconvert_exporter": "python",
   "pygments_lexer": "ipython3",
   "version": "3.9.7"
  },
  "orig_nbformat": 4,
  "vscode": {
   "interpreter": {
    "hash": "328661ec968ebc77b93161299d44fd1f4547ee33c9a17c5e95f23064c7c08def"
   }
  }
 },
 "nbformat": 4,
 "nbformat_minor": 2
}
