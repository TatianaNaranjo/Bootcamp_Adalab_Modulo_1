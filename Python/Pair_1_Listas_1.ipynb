{
 "cells": [
  {
   "cell_type": "code",
   "execution_count": 2,
   "metadata": {},
   "outputs": [
    {
     "name": "stdout",
     "output_type": "stream",
     "text": [
      "¡Comencemos el juego!\n",
      "Tienes dos intentos para adivinar el número entre 3 y 6\n",
      "Intento 1: 6\n",
      "Intento 2: 3\n",
      "Terminamos el juego. El número era 5 ¿Lo adivinaste?\n"
     ]
    }
   ],
   "source": [
    "import math\n",
    "import random\n",
    "\n",
    "# Variables numéricas\n",
    "\n",
    "# Cadenas fijas de texto\n",
    "print('¡Comencemos el juego!')\n",
    "print('Tienes dos intentos para adivinar el número entre 3 y 6')\n",
    "\n",
    "# User input\n",
    "lim_superior = int(input('Escribe el límite superior'))\n",
    "print('Intento 1:', lim_superior)\n",
    "\n",
    "lim_inferior = int(input('Escribe el límite inferior'))\n",
    "print('Intento 2:', lim_inferior)\n",
    "\n",
    "# Cantidades calculadas\n",
    "intentos_permitidos = round(math.log(lim_superior - lim_inferior + 1,2))\n",
    "numero_secreto = random.randint(lim_inferior,lim_superior)\n",
    "\n",
    "# Inicio del juego\n",
    "\n",
    "# Adivinar 1 intento\n",
    "print('Terminamos el juego. El número era', numero_secreto, '¿Lo adivinaste?')\n",
    "\n",
    "# Fin del juego"
   ]
  }
 ],
 "metadata": {
  "interpreter": {
   "hash": "31f2aee4e71d21fbe5cf8b01ff0e069b9275f58929596ceb00d14d90e3e16cd6"
  },
  "kernelspec": {
   "display_name": "Python 3.8.9 64-bit",
   "language": "python",
   "name": "python3"
  },
  "language_info": {
   "codemirror_mode": {
    "name": "ipython",
    "version": 3
   },
   "file_extension": ".py",
   "mimetype": "text/x-python",
   "name": "python",
   "nbconvert_exporter": "python",
   "pygments_lexer": "ipython3",
   "version": "3.9.7"
  },
  "orig_nbformat": 4
 },
 "nbformat": 4,
 "nbformat_minor": 2
}
