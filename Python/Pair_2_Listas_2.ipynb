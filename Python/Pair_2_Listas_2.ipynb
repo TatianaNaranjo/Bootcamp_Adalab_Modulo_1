{
 "cells": [
  {
   "cell_type": "code",
   "execution_count": 2,
   "metadata": {},
   "outputs": [
    {
     "name": "stdout",
     "output_type": "stream",
     "text": [
      "¡Comencemos el juego!\n",
      "El usuario tiene que facilitar una lista de números\n",
      "Tiene 4 elementos entre 1 a 4\n",
      "¿Han adivinado el número secreto?\n",
      "True\n",
      "Terminamos el juego. El número era 1\n"
     ]
    }
   ],
   "source": [
    "import random\n",
    "\n",
    "print('¡Comencemos el juego!')\n",
    "\n",
    "str_input = \"Lista de números, separado por espacios: \"\n",
    "\n",
    "# User input\n",
    "num_list = list(int(num) for num in input(str_input).strip().split())\n",
    "\n",
    "print('El usuario tiene que facilitar una lista de números')\n",
    "\n",
    "longitud_lista = len(num_list)\n",
    "lim_inferior = min(num_list)\n",
    "lim_superior = max(num_list)\n",
    "\n",
    "numero_secreto = random.randint(lim_inferior,lim_superior) \n",
    "\n",
    "print('Tiene', longitud_lista, 'elementos entre', lim_inferior, 'a', lim_superior)\n",
    "\n",
    "print('¿Han adivinado el número secreto?')\n",
    "print(bool(numero_secreto in num_list))\n",
    "\n",
    "print('Terminamos el juego. El número era', numero_secreto)"
   ]
  }
 ],
 "metadata": {
  "interpreter": {
   "hash": "31f2aee4e71d21fbe5cf8b01ff0e069b9275f58929596ceb00d14d90e3e16cd6"
  },
  "kernelspec": {
   "display_name": "Python 3.8.9 64-bit",
   "language": "python",
   "name": "python3"
  },
  "language_info": {
   "codemirror_mode": {
    "name": "ipython",
    "version": 3
   },
   "file_extension": ".py",
   "mimetype": "text/x-python",
   "name": "python",
   "nbconvert_exporter": "python",
   "pygments_lexer": "ipython3",
   "version": "3.9.7"
  },
  "orig_nbformat": 4
 },
 "nbformat": 4,
 "nbformat_minor": 2
}
