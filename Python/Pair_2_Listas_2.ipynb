{
 "cells": [
  {
   "cell_type": "markdown",
   "metadata": {},
   "source": [
    "# Ejercicio 1\n",
    "En el juego de hoy vamos a pedir al usuario que introduzca una lista de números, separado por espacios, para adivinar el número secreto."
   ]
  },
  {
   "cell_type": "code",
   "execution_count": 2,
   "metadata": {},
   "outputs": [
    {
     "name": "stdout",
     "output_type": "stream",
     "text": [
      "¡Comencemos el juego!\n",
      "El usuario tiene que facilitar una lista de números\n",
      "Tiene 5 elementos entre 1 a 20\n",
      "¿Han adivinado el número secreto?\n",
      "True\n",
      "Terminamos el juego. El número era 15\n"
     ]
    }
   ],
   "source": [
    "import random\n",
    "\n",
    "print('¡Comencemos el juego!')\n",
    "\n",
    "str_input = \"Escribe tu Lista de números, separado por espacios: \"\n",
    "\n",
    "# User input\n",
    "num_list = list(int(num) for num in input(str_input).strip().split())\n",
    "\n",
    "print('El usuario tiene que facilitar una lista de números')\n",
    "\n",
    "longitud_lista = len(num_list)\n",
    "lim_inferior = min(num_list)\n",
    "lim_superior = max(num_list)\n",
    "\n",
    "numero_secreto = random.randint(lim_inferior,lim_superior) \n",
    "\n",
    "print('Tiene', longitud_lista, 'elementos entre', lim_inferior, 'a', lim_superior)\n",
    "\n",
    "print('¿Han adivinado el número secreto?')\n",
    "print(bool(numero_secreto in num_list))\n",
    "\n",
    "print('Terminamos el juego. El número era', numero_secreto)"
   ]
  }
 ],
 "metadata": {
  "kernelspec": {
   "display_name": "Python 3.9.7 ('base')",
   "language": "python",
   "name": "python3"
  },
  "language_info": {
   "codemirror_mode": {
    "name": "ipython",
    "version": 3
   },
   "file_extension": ".py",
   "mimetype": "text/x-python",
   "name": "python",
   "nbconvert_exporter": "python",
   "pygments_lexer": "ipython3",
   "version": "3.9.7"
  },
  "orig_nbformat": 4,
  "vscode": {
   "interpreter": {
    "hash": "328661ec968ebc77b93161299d44fd1f4547ee33c9a17c5e95f23064c7c08def"
   }
  }
 },
 "nbformat": 4,
 "nbformat_minor": 2
}
